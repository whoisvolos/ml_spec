{
 "cells": [
  {
   "cell_type": "code",
   "execution_count": 62,
   "metadata": {
    "collapsed": false
   },
   "outputs": [
    {
     "name": "stdout",
     "output_type": "stream",
     "text": [
      "In comparison to dogs, cats have not undergone major changes during the domestication process.\r\n",
      "As cat simply catenates streams of bytes, it can be also used to concatenate binary files, where it will just concatenate sequence of bytes.\r\n",
      "A common interactive use of cat for a single file is to output the content of a file to standard output.\r\n",
      "Cats can hear sounds too faint or too high in frequency for human ears, such as those made by mice and other small animals.\r\n",
      "In one, people deliberately tamed cats in a process of artificial selection, as they were useful predators of vermin.\r\n",
      "The domesticated cat and its closest wild ancestor are both diploid organisms that possess 38 chromosomes and roughly 20,000 genes.\r\n",
      "Domestic cats are similar in size to the other members of the genus Felis, typically weighing between 4 and 5 kg (8.8 and 11.0 lb).\r\n",
      "However, if the output is piped or redirected, cat is unnecessary.\r\n",
      "cat with one named file is safer where human error is a concern - one wrong use of the default redirection symbol \">\" instead of \"<\" (often adjacent on keyboards) may permanently delete the file you were just needing to read.\r\n",
      "In terms of legibility, a sequence of commands starting with cat and connected by pipes has a clear left-to-right flow of information.\r\n",
      "Cat command is one of the basic commands that you learned when you started in the Unix / Linux world.\r\n",
      "Using cat command, the lines received from stdin can be redirected to a new file using redirection symbols.\r\n",
      "When you type simply cat command without any arguments, it just receives the stdin content and displays it in the stdout.\r\n",
      "Leopard was released on October 26, 2007 as the successor of Tiger (version 10.4), and is available in two editions.\r\n",
      "According to Apple, Leopard contains over 300 changes and enhancements over its predecessor, Mac OS X Tiger.\r\n",
      "As of Mid 2010, some Apple computers have firmware factory installed which will no longer allow installation of Mac OS X Leopard.\r\n",
      "Since Apple moved to using Intel processors in their computers, the OSx86 community has developed and now also allows Mac OS X Tiger and later releases to be installed on non-Apple x86-based computers.\r\n",
      "OS X Mountain Lion was released on July 25, 2012 for purchase and download through Apple's Mac App Store, as part of a switch to releasing OS X versions online and every year.\r\n",
      "Apple has released a small patch for the three most recent versions of Safari running on OS X Yosemite, Mavericks, and Mountain Lion.\r\n",
      "The Mountain Lion release marks the second time Apple has offered an incremental upgrade, rather than releasing a new cat entirely.\r\n",
      "Mac OS X Mountain Lion installs in place, so you won't need to create a separate disk or run the installation off an external drive.\r\n",
      "The fifth major update to Mac OS X, Leopard, contains such a mountain of features - more than 300 by Apple's count.\r\n"
     ]
    }
   ],
   "source": [
    "!cat data/sentences.txt"
   ]
  },
  {
   "cell_type": "code",
   "execution_count": 14,
   "metadata": {
    "collapsed": false
   },
   "outputs": [],
   "source": [
    "import re\n",
    "data = []\n",
    "with open('data/sentences.txt') as f:\n",
    "    for line in f.readlines():\n",
    "        line = line.strip().lower()\n",
    "        data.append(filter(lambda x: x, re.split('[^a-z]+', line)))"
   ]
  },
  {
   "cell_type": "code",
   "execution_count": 38,
   "metadata": {
    "collapsed": false
   },
   "outputs": [],
   "source": [
    "from operator import itemgetter\n",
    "dictionary = {}\n",
    "cnt = 0\n",
    "for line in data:\n",
    "    for word in line:\n",
    "        if word not in dictionary:\n",
    "            dictionary[word] = cnt\n",
    "            cnt += 1\n",
    "lst_dict = map(itemgetter(0), sorted(dictionary.iteritems(), key=itemgetter(1)))"
   ]
  },
  {
   "cell_type": "code",
   "execution_count": 40,
   "metadata": {
    "collapsed": false
   },
   "outputs": [],
   "source": [
    "from collections import defaultdict\n",
    "import numpy as np\n",
    "X = []\n",
    "for line in data:\n",
    "    word_count = defaultdict(int)\n",
    "    for word in line:\n",
    "        word_count[word] += 1\n",
    "    X.append( [(word_count[w] if w in word_count else 0) for w in lst_dict] )"
   ]
  },
  {
   "cell_type": "code",
   "execution_count": 84,
   "metadata": {
    "collapsed": false
   },
   "outputs": [
    {
     "name": "stdout",
     "output_type": "stream",
     "text": [
      "[(0, 0.0), (6, 0.7327387580875756), (4, 0.77708871496985887), (21, 0.82503644694405864), (10, 0.83281653622739416), (12, 0.83964325485254543), (16, 0.84063618542208085), (20, 0.84275727449171223), (2, 0.86447381456421235), (13, 0.87035925528956715)]\n"
     ]
    },
    {
     "data": {
      "text/plain": [
       "'6 4'"
      ]
     },
     "execution_count": 84,
     "metadata": {},
     "output_type": "execute_result"
    }
   ],
   "source": [
    "X_np = np.array(X)\n",
    "from scipy.spatial.distance import cosine\n",
    "cosined = sorted(enumerate([cosine(X_np[0], x) for x in X_np], start=0), key=itemgetter(1))\n",
    "print cosined[0:10]\n",
    "answer_1 = \" \".join(map(lambda x: str(x), map(itemgetter(0), cosined[1:3])))\n",
    "with open(\"data/assignment_1.txt\", 'w') as f:\n",
    "    f.write(answer_1)\n",
    "answer_1    "
   ]
  },
  {
   "cell_type": "code",
   "execution_count": 85,
   "metadata": {
    "collapsed": false
   },
   "outputs": [
    {
     "name": "stdout",
     "output_type": "stream",
     "text": [
      "['domestic', 'cats', 'are', 'similar', 'in', 'size', 'to', 'the', 'other', 'members', 'of', 'the', 'genus', 'felis', 'typically', 'weighing', 'between', 'and', 'kg', 'and', 'lb']\n",
      "['in', 'one', 'people', 'deliberately', 'tamed', 'cats', 'in', 'a', 'process', 'of', 'artificial', 'selection', 'as', 'they', 'were', 'useful', 'predators', 'of', 'vermin']\n"
     ]
    }
   ],
   "source": [
    "print data[6]\n",
    "print data[4]"
   ]
  },
  {
   "cell_type": "code",
   "execution_count": 86,
   "metadata": {
    "collapsed": false
   },
   "outputs": [],
   "source": [
    "import matplotlib.pyplot as plt\n",
    "%matplotlib inline"
   ]
  },
  {
   "cell_type": "code",
   "execution_count": 230,
   "metadata": {
    "collapsed": true
   },
   "outputs": [],
   "source": [
    "def f(x):\n",
    "    return np.sin(x / 5) * np.exp(x / 10) + 5 * np.exp(-x / 2)"
   ]
  },
  {
   "cell_type": "code",
   "execution_count": 218,
   "metadata": {
    "collapsed": true
   },
   "outputs": [],
   "source": [
    "from scipy.linalg import solve"
   ]
  },
  {
   "cell_type": "code",
   "execution_count": 219,
   "metadata": {
    "collapsed": false
   },
   "outputs": [],
   "source": [
    "b = f(np.array([1.0, 15.0]))\n",
    "A = np.array([[1.0, 1.0], [1.0, 15.0]])\n",
    "a1 = solve(A, b)"
   ]
  },
  {
   "cell_type": "code",
   "execution_count": 220,
   "metadata": {
    "collapsed": false
   },
   "outputs": [
    {
     "data": {
      "text/plain": [
       "(array([[   1.,    1.,    1.],\n",
       "        [   1.,    8.,   64.],\n",
       "        [   1.,   15.,  225.]]),\n",
       " array([ 3.25221687,  2.31617016,  0.63522142]))"
      ]
     },
     "execution_count": 220,
     "metadata": {},
     "output_type": "execute_result"
    }
   ],
   "source": [
    "b = f(np.array([1.0, 8.0, 15.0]))\n",
    "A = np.array([[1.0, 1.0, 1.0], [1.0, 8.0, 64.0], [1.0, 15.0, 225.0]])\n",
    "a2 = solve(A, b)\n",
    "A, b"
   ]
  },
  {
   "cell_type": "code",
   "execution_count": 221,
   "metadata": {
    "collapsed": true
   },
   "outputs": [],
   "source": [
    "b = f(np.array([1.0, 4.0, 10.0, 15.0]))\n",
    "A = np.array([[1.0, 1.0, 1.0, 1.0], [1.0, 4.0, 16.0, 64.0], [1.0, 10.0, 100.0, 1000.0], [1.0, 15.0, 225.0, 3375.0]])\n",
    "a3 = solve(A, b)"
   ]
  },
  {
   "cell_type": "code",
   "execution_count": 241,
   "metadata": {
    "collapsed": false
   },
   "outputs": [],
   "source": [
    "def f_1(x):\n",
    "    return a1[0] + a1[1] * x\n",
    "\n",
    "def f_2(x):\n",
    "    return a2[0] + a2[1] * x + a2[2] * x * x\n",
    "\n",
    "def f_3(x):\n",
    "    return a3[0] + a3[1] * x + a3[2] * x * x + a3[3] * x * x * x"
   ]
  },
  {
   "cell_type": "code",
   "execution_count": 240,
   "metadata": {
    "collapsed": false
   },
   "outputs": [
    {
     "data": {
      "text/plain": [
       "4.3626415351180707"
      ]
     },
     "execution_count": 240,
     "metadata": {},
     "output_type": "execute_result"
    }
   ],
   "source": [
    "a3[0]"
   ]
  },
  {
   "cell_type": "code",
   "execution_count": 244,
   "metadata": {
    "collapsed": false
   },
   "outputs": [
    {
     "data": {
      "text/plain": [
       "<matplotlib.collections.PathCollection at 0x10a6e8310>"
      ]
     },
     "execution_count": 244,
     "metadata": {},
     "output_type": "execute_result"
    },
    {
     "data": {
      "image/png": "[encoded data removed]",
      "text/plain": [
       "<matplotlib.figure.Figure at 0x109c3ac10>"
      ]
     },
     "metadata": {},
     "output_type": "display_data"
    }
   ],
   "source": [
    "x = np.linspace(0.0, 15.0, 100)\n",
    "plt.plot(x, f(x))\n",
    "plt.plot(x, f_1(x))\n",
    "plt.plot(x, f_2(x))\n",
    "plt.plot(x, f_3(x))\n",
    "plt.axis([0, 15, 0, 5])\n",
    "sp_x = np.array([1.0, 4.0, 8.0, 10.0, 15.0])\n",
    "plt.scatter(sp_x, f(sp_x), color='red')"
   ]
  },
  {
   "cell_type": "code",
   "execution_count": 227,
   "metadata": {
    "collapsed": false
   },
   "outputs": [
    {
     "data": {
      "text/plain": [
       "'4.36 -1.3 0.19 -0.01'"
      ]
     },
     "execution_count": 227,
     "metadata": {},
     "output_type": "execute_result"
    }
   ],
   "source": [
    "answer_2 = \" \".join(map(lambda x: str(round(x, 2)), a3))\n",
    "with open(\"data/assignment_2.txt\", 'w') as f:\n",
    "    f.write(answer_2)\n",
    "answer_2"
   ]
  },
  {
   "cell_type": "code",
   "execution_count": null,
   "metadata": {
    "collapsed": true
   },
   "outputs": [],
   "source": []
  }
 ],
 "metadata": {
  "kernelspec": {
   "display_name": "Python 2",
   "language": "python",
   "name": "python2"
  },
  "language_info": {
   "codemirror_mode": {
    "name": "ipython",
    "version": 2
   },
   "file_extension": ".py",
   "mimetype": "text/x-python",
   "name": "python",
   "nbconvert_exporter": "python",
   "pygments_lexer": "ipython2",
   "version": "2.7.8"
  }
 },
 "nbformat": 4,
 "nbformat_minor": 0
}
